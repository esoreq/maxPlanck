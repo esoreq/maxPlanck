{
 "metadata": {
  "language_info": {
   "codemirror_mode": {
    "name": "ipython",
    "version": 3
   },
   "file_extension": ".py",
   "mimetype": "text/x-python",
   "name": "python",
   "nbconvert_exporter": "python",
   "pygments_lexer": "ipython3",
   "version": "3.7.7-final"
  },
  "orig_nbformat": 2,
  "kernelspec": {
   "name": "filprofile",
   "display_name": "Python 3 with Fil"
  }
 },
 "nbformat": 4,
 "nbformat_minor": 2,
 "cells": [
  {
   "source": [
    "# **Day One - Bash essentials** \n",
    "\n",
    "Most modern operating systems feature two forms of interfaces for user input: a graphical user interface (GUI) and a command-line interaction (CLI). Although you can make any changes via the graphical user interface, you can make the same changes in CLI form, using a shell.\n",
    "\n",
    "The shell is a program that serves as a keyboard-driven interface between the user and the operating system. It includes a command-line interpreter that accepts the user input via the keyboard, evaluates it, starts programs if necessary, and returns the output in the form of text output to the user. Each shell has its own programming language. This makes it possible to write shell scripts that automate complex tasks. Each shell runs in a terminal.   \n",
    "\n",
    "In the old days, independent devices, or so-called \"hard copy terminals\" (printer or screen plus keyboard), were used. Modern computers no longer have those, replaced by terminal emulators - programs that provide users with a graphical window for interacting with the shell. As scientists, we rely on strong computer clusters to reveal answers to many questions and to perform many tasks automatically. There are many ways to interact with these computers, but the fastest and most reliable way is the terminal emulators which is the main focus of today's presentation.\n",
    "\n"
   ],
   "cell_type": "markdown",
   "metadata": {}
  },
  {
   "source": [
    "## Introduction to Linux based command line interactions\n",
    "\n"
   ],
   "cell_type": "markdown",
   "metadata": {}
  },
  {
   "source": [
    "### Experimenting with the bash terminal\n",
    "\n",
    "If you happen to use the Windows OS, you can install the [Windows Terminal](https://github.com/microsoft/terminal) which, as far as I know, has most if not all of the features I will demonstrate during this session. However, it is important to know that terminal capabilities are everywhere, and that the concepts that we will cover today can be (and should be) utilized in other contexts.\n",
    "\n",
    " If you are using a personal computer with Mac OS, just press ⌘ + space and press terminal in the search bar to open a terminal console. If you are using Linux, you probably know how to do this by now 😊 , but if not it is just by locating and running a program called terminal from your list of programs.\n",
    "\n",
    "There are even more advanced terminal emulators out there that have more options, for instance, I use a terminal emulator called iTerm."
   ],
   "cell_type": "markdown",
   "metadata": {}
  },
  {
   "source": [
    "### Introduction and links to further your learning\n",
    "The Bourne Again Shell (BASH) is a widely accepted command-line interface (CLI) that is usually present in High-performance computing (HPC) clusters, so we will focus on that. There are many different CLIs, some of them are more modern than BASH,  and since they offer more complex functionality, learning them takes more time. One of the main reasons to learn bash is that it is relatively simple and switching to other shell environments is not very difficult. If you desire to understand BASH beyond these basic notes you should take [Learn bash the Hard Way](https://linuxconfig.org/bash-scripting-tutorial) which dives into the details in a way I don't have the capacity (or the interest) to do.\n",
    "\n",
    "Interaction with the shell normally happens via commands, which can be used to call CLI programs of a similar name. For every action that you wish to carry out via the terminal, you use a program call following this basic scheme:\n",
    "```shell\n",
    "Command [options] [arguments] \n",
    "```\n",
    "\n",
    "Lets go over some important commands and how to use them. \n",
    "\n",
    "\n"
   ],
   "cell_type": "markdown",
   "metadata": {}
  },
  {
   "source": [
    "### Bash Commands and symbols to Manage Directories, Files and Content"
   ],
   "cell_type": "markdown",
   "metadata": {}
  },
  {
   "source": [
    "The most fundamental skill in any navigation task is knowing where you are.\n",
    "The pwd command prints your current location to the command line."
   ],
   "cell_type": "markdown",
   "metadata": {}
  },
  {
   "cell_type": "code",
   "execution_count": 2,
   "metadata": {},
   "outputs": [
    {
     "output_type": "stream",
     "name": "stdout",
     "text": [
      "/Users/eyalsoreq\n"
     ]
    }
   ],
   "source": [
    "#hide\n",
    "%cd ~"
   ]
  },
  {
   "source": [
    "%%bash\n",
    "pwd # print the current directory."
   ],
   "cell_type": "code",
   "metadata": {},
   "execution_count": 3,
   "outputs": [
    {
     "output_type": "stream",
     "name": "stdout",
     "text": [
      "/Users/eyalsoreq\n"
     ]
    }
   ]
  },
  {
   "source": [
    "Having found out where we are, we can use the Change Directory command to move from one place to another."
   ],
   "cell_type": "markdown",
   "metadata": {}
  },
  {
   "source": [
    "%%bash\n",
    "cd ~ # goto home directory \n",
    "pwd # print the current directory to varify.\n",
    "cd Applications # goto Applications directory\n",
    "cd /bin # goto bin directory located in the root folder \n",
    "cd ~/tmp # goto tmp directory in the home directory \n",
    "cd .. # go back one level\n",
    "pwd # confirm that you are home\n",
    "# # if for some reason you created a folder name with spaces (DONT!!!)\n",
    "# # you go into it using quotation marks\n",
    "# cd \"dir name\""
   ],
   "cell_type": "code",
   "metadata": {},
   "execution_count": 4,
   "outputs": [
    {
     "output_type": "stream",
     "name": "stdout",
     "text": [
      "/Users/eyalsoreq\n/Users/eyalsoreq\n"
     ]
    }
   ]
  },
  {
   "source": [
    "Another crucial skill is the ability to create simple and complex directory hierarchies. The mkdir command can be turned into a powerful tool using the many options and structures it comes with. For example, the '-p|--parent' is used if you are trying to create a directory with top-down approach. That will create the parent directory then child and so on if none exists."
   ],
   "cell_type": "markdown",
   "metadata": {}
  },
  {
   "cell_type": "code",
   "execution_count": 5,
   "metadata": {},
   "outputs": [],
   "source": [
    "#hide\n",
    "%rm -rf ~/sandbox"
   ]
  },
  {
   "source": [
    "%%bash\n",
    "mkdir ~/sandbox # create a folder named sandbox in your home directory\n",
    "cd ~/sandbox  # goto sandbox directory \n",
    "mkdir dir_1 dir_2 # Create two directories in the same hierarchy under sandbox directory.\n",
    "mkdir -p dir_root/dir_branch0/dir_leaf0 # create a directory hierarchy\n",
    "mkdir -p dir_root/{dir_branch1,dir_branch2}/{dir_leaf1,dir_leaf2} # create a multiple leaf directory assignments\n",
    "mkdir -p dir_root/{dir_branch1/{dir_leaf1,dir_leaf2},dir_branch3/{dir_leaf7,dir_leaf6}} # create a complex directory structure"
   ],
   "cell_type": "code",
   "metadata": {},
   "execution_count": 6,
   "outputs": []
  },
  {
   "source": [
    "Creating files \n",
    "The command 'touch' can be used to modify access and alteration time stamps for files. If touch is applied to a file that doesn’t exist yet, then it is automatically created. So the command is also good for creating empty files.\n",
    "Another option to create empty files is to use Output Redirection evoked using the right-angle bracket (>). "
   ],
   "cell_type": "markdown",
   "metadata": {}
  },
  {
   "source": [
    "%%bash\n",
    "cd ~/sandbox # goto sandbox\n",
    "touch readme.md # create an empty file called readme with suffix of md\n",
    "> .hidden_info.txt # create an empty hidden file called .hidden_info with suffix of txt\n",
    "touch  dir_1/file_one.txt dir_1/file_02.txt dir_1/file_III.txt  # create multiple files with different names \n",
    "touch  dir_2/file_{00..4}.txt # create multiple numbered files \n",
    "touch  dir_root/file_{a..f}.txt # create multiple empty files with letters  "
   ],
   "cell_type": "code",
   "metadata": {},
   "execution_count": 7,
   "outputs": []
  },
  {
   "source": [
    "In order to find out if our structure actually exists, we use the \"ls\" command to **l**i**s**t directory content.\n",
    "Probably the most common command. The ls command allows you to quickly view all files within the specified directory. Like almost all bash commands it can be extended by adding different options. Let’s review some useful ones:"
   ],
   "cell_type": "markdown",
   "metadata": {}
  },
  {
   "cell_type": "code",
   "execution_count": 8,
   "metadata": {},
   "outputs": [
    {
     "output_type": "stream",
     "name": "stdout",
     "text": [
      "/Users/eyalsoreq/sandbox\n\u001b[34mdir_1\u001b[m\u001b[m/     \u001b[34mdir_2\u001b[m\u001b[m/     \u001b[34mdir_root\u001b[m\u001b[m/  readme.md\n"
     ]
    }
   ],
   "source": [
    "%cd ~/sandbox \n",
    "%ls  # list files and directories in bare format"
   ]
  },
  {
   "source": [
    "Any file or folder that begins with a dot prefix will be hidden by default. To view the contents of hidden files, we will use the option -a."
   ],
   "cell_type": "markdown",
   "metadata": {}
  },
  {
   "cell_type": "code",
   "execution_count": 9,
   "metadata": {},
   "outputs": [
    {
     "output_type": "stream",
     "name": "stdout",
     "text": [
      "\u001b[34m.\u001b[m\u001b[m/                .hidden_info.txt  \u001b[34mdir_2\u001b[m\u001b[m/            readme.md\n\u001b[34m..\u001b[m\u001b[m/               \u001b[34mdir_1\u001b[m\u001b[m/            \u001b[34mdir_root\u001b[m\u001b[m/\n"
     ]
    }
   ],
   "source": [
    "%ls -a # List all files including hidden file"
   ]
  },
  {
   "cell_type": "code",
   "execution_count": 10,
   "metadata": {},
   "outputs": [
    {
     "output_type": "stream",
     "name": "stdout",
     "text": [
      "\u001b[34mdir_1\u001b[m\u001b[m/\n\u001b[34mdir_2\u001b[m\u001b[m/\n\u001b[34mdir_root\u001b[m\u001b[m/\nreadme.md\n"
     ]
    }
   ],
   "source": [
    "%ls -1 # Force output to column form"
   ]
  },
  {
   "source": [
    "Many different options can be combined to create more specific versions of a command."
   ],
   "cell_type": "markdown",
   "metadata": {}
  },
  {
   "cell_type": "code",
   "execution_count": 11,
   "metadata": {},
   "outputs": [
    {
     "output_type": "stream",
     "name": "stdout",
     "text": [
      "\u001b[34m.\u001b[m\u001b[m/\n\u001b[34m..\u001b[m\u001b[m/\n.hidden_info.txt\n\u001b[34mdir_1\u001b[m\u001b[m/\n\u001b[34mdir_2\u001b[m\u001b[m/\n\u001b[34mdir_root\u001b[m\u001b[m/\nreadme.md\n"
     ]
    }
   ],
   "source": [
    "%ls -1a # Force output to column form including hidden files"
   ]
  },
  {
   "source": [
    "Every basic command has a manual page entry that can be accessed via the man command followed by the command name. \n",
    "For example:\n"
   ],
   "cell_type": "markdown",
   "metadata": {}
  },
  {
   "cell_type": "code",
   "execution_count": 25,
   "metadata": {},
   "outputs": [
    {
     "output_type": "stream",
     "name": "stdout",
     "text": [
      "\nLS(1)                     BSD General Commands Manual                    LS(1)\n\nNAME\n     ls -- list directory contents\n\nSYNOPSIS\n     ls [-ABCFGHLOPRSTUW@abcdefghiklmnopqrstuwx1%] [file ...]\n\nDESCRIPTION\n     For each operand that names a file of a type other than directory, ls\n     displays its name as well as any requested, associated information.  For\n     each operand that names a file of type directory, ls displays the names\n     of files contained within that directory, as well as any requested, asso-\n     ciated information.\n\n     If no operands are given, the contents of the current directory are dis-\n     played.  If more than one operand is given, non-directory operands are\n     displayed first; directory and non-directory operands are sorted sepa-\n     rately and in lexicographical order.\n\n     The following options are available:\n\n     -@      Display extended attribute keys and sizes in long (-l) output.\n\n     -1      (The numeric digit ``one''.)  Force output to be one entry per\n             line.  This is the default when output is not to a terminal.\n\n     -A      List all entries except for . and ...  Always set for the super-\n             user.\n\n     -a      Include directory entries whose names begin with a dot (.).\n\n     -B      Force printing of non-printable characters (as defined by\n             ctype(3) and current locale settings) in file names as \\xxx,\n             where xxx is the numeric value of the character in octal.\n\n     -b      As -B, but use C escape codes whenever possible.\n\n     -C      Force multi-column output; this is the default when output is to\n             a terminal.\n\n     -c      Use time when file status was last changed for sorting (-t) or\n             long printing (-l).\n\n     -d      Directories are listed as plain files (not searched recursively).\n\n     -e      Print the Access Control List (ACL) associated with the file, if\n             present, in long (-l) output.\n\n     -F      Display a slash (`/') immediately after each pathname that is a\n             directory, an asterisk (`*') after each that is executable, an at\n             sign (`@') after each symbolic link, an equals sign (`=') after\n             each socket, a percent sign (`%') after each whiteout, and a ver-\n             tical bar (`|') after each that is a FIFO.\n\n     -f      Output is not sorted.  This option turns on the -a option.\n\n     -G      Enable colorized output.  This option is equivalent to defining\n             CLICOLOR in the environment.  (See below.)\n\n     -g      This option is only available for compatibility with POSIX; it is\n             used to display the group name in the long (-l) format output\n             (the owner name is suppressed).\n\n     -H      Symbolic links on the command line are followed.  This option is\n             assumed if none of the -F, -d, or -l options are specified.\n\n     -h      When used with the -l option, use unit suffixes: Byte, Kilobyte,\n             Megabyte, Gigabyte, Terabyte and Petabyte in order to reduce the\n             number of digits to three or less using base 2 for sizes.\n\n     -i      For each file, print the file's file serial number (inode num-\n             ber).\n\n     -k      If the -s option is specified, print the file size allocation in\n             kilobytes, not blocks.  This option overrides the environment\n             variable BLOCKSIZE.\n\n     -L      Follow all symbolic links to final target and list the file or\n             directory the link references rather than the link itself.  This\n             option cancels the -P option.\n\n     -l      (The lowercase letter ``ell''.)  List in long format.  (See\n             below.)  A total sum for all the file sizes is output on a line\n             before the long listing.\n\n     -m      Stream output format; list files across the page, separated by\n             commas.\n\n     -n      Display user and group IDs numerically, rather than converting to\n             a user or group name in a long (-l) output.  This option turns on\n             the -l option.\n\n     -O      Include the file flags in a long (-l) output.\n\n     -o      List in long format, but omit the group id.\n\n     -P      If argument is a symbolic link, list the link itself rather than\n             the object the link references.  This option cancels the -H and\n             -L options.\n\n     -p      Write a slash (`/') after each filename if that file is a direc-\n             tory.\n\n     -q      Force printing of non-graphic characters in file names as the\n             character `?'; this is the default when output is to a terminal.\n\n     -R      Recursively list subdirectories encountered.\n\n     -r      Reverse the order of the sort to get reverse lexicographical\n             order or the oldest entries first (or largest files last, if com-\n             bined with sort by size\n\n     -S      Sort files by size\n\n     -s      Display the number of file system blocks actually used by each\n             file, in units of 512 bytes, where partial units are rounded up\n             to the next integer value.  If the output is to a terminal, a\n             total sum for all the file sizes is output on a line before the\n             listing.  The environment variable BLOCKSIZE overrides the unit\n             size of 512 bytes.\n\n     -T      When used with the -l (lowercase letter ``ell'') option, display\n             complete time information for the file, including month, day,\n             hour, minute, second, and year.\n\n     -t      Sort by time modified (most recently modified first) before sort-\n             ing the operands by lexicographical order.\n\n     -u      Use time of last access, instead of last modification of the file\n             for sorting (-t) or long printing (-l).\n\n     -U      Use time of file creation, instead of last modification for sort-\n             ing (-t) or long output (-l).\n\n     -v      Force unedited printing of non-graphic characters; this is the\n             default when output is not to a terminal.\n\n     -W      Display whiteouts when scanning directories.  (-S) flag).\n\n     -w      Force raw printing of non-printable characters.  This is the\n             default when output is not to a terminal.\n\n     -x      The same as -C, except that the multi-column output is produced\n             with entries sorted across, rather than down, the columns.\n\n     -%      Distinguish dataless files and directories with a '%' character\n             in long (-l) output, and don't materialize dataless directories\n             when listing them.\n\n     The -1, -C, -x, and -l options all override each other; the last one\n     specified determines the format used.\n\n     The -c and -u options override each other; the last one specified deter-\n     mines the file time used.\n\n     The -B, -b, -w, and -q options all override each other; the last one\n     specified determines the format used for non-printable characters.\n\n     The -H, -L and -P options all override each other (either partially or\n     fully); they are applied in the order specified.\n\n     By default, ls lists one entry per line to standard output; the excep-\n     tions are to terminals or when the -C or -x options are specified.\n\n     File information is displayed with one or more <blank>s separating the\n     information associated with the -i, -s, and -l options.\n\n   The Long Format\n     If the -l option is given, the following information is displayed for\n     each file: file mode, number of links, owner name, group name, number of\n     bytes in the file, abbreviated month, day-of-month file was last modi-\n     fied, hour file last modified, minute file last modified, and the path-\n     name.  In addition, for each directory whose contents are displayed, the\n     total number of 512-byte blocks used by the files in the directory is\n     displayed on a line by itself, immediately before the information for the\n     files in the directory.  If the file or directory has extended\n     attributes, the permissions field printed by the -l option is followed by\n     a '@' character.  Otherwise, if the file or directory has extended secu-\n     rity information (such as an access control list), the permissions field\n     printed by the -l option is followed by a '+' character.  If the -%\n     option is given, a '%' character follows the permissions field for data-\n     less files and directories, possibly replacing the '@' or '+' character.\n\n     If the modification time of the file is more than 6 months in the past or\n     future, then the year of the last modification is displayed in place of\n     the hour and minute fields.\n\n     If the owner or group names are not a known user or group name, or the -n\n     option is given, the numeric ID's are displayed.\n\n     If the file is a character special or block special file, the major and\n     minor device numbers for the file are displayed in the size field.  If\n     the file is a symbolic link, the pathname of the linked-to file is pre-\n     ceded by ``->''.\n\n     The file mode printed under the -l option consists of the entry type,\n     owner permissions, and group permissions.  The entry type character\n     describes the type of file, as follows:\n\n           b     Block special file.\n           c     Character special file.\n           d     Directory.\n           l     Symbolic link.\n           s     Socket link.\n           p     FIFO.\n           -     Regular file.\n\n     The next three fields are three characters each: owner permissions, group\n     permissions, and other permissions.  Each field has three character posi-\n     tions:\n\n           1.   If r, the file is readable; if -, it is not readable.\n\n           2.   If w, the file is writable; if -, it is not writable.\n\n           3.   The first of the following that applies:\n\n                      S     If in the owner permissions, the file is not exe-\n                            cutable and set-user-ID mode is set.  If in the\n                            group permissions, the file is not executable and\n                            set-group-ID mode is set.\n\n                      s     If in the owner permissions, the file is exe-\n                            cutable and set-user-ID mode is set.  If in the\n                            group permissions, the file is executable and set-\n                            group-ID mode is set.\n\n                      x     The file is executable or the directory is search-\n                            able.\n\n                      -     The file is neither readable, writable, exe-\n                            cutable, nor set-user-ID nor set-group-ID mode,\n                            nor sticky.  (See below.)\n\n                These next two apply only to the third character in the last\n                group (other permissions).\n\n                      T     The sticky bit is set (mode 1000), but not execute\n                            or search permission.  (See chmod(1) or\n                            sticky(8).)\n\n                      t     The sticky bit is set (mode 1000), and is search-\n                            able or executable.  (See chmod(1) or sticky(8).)\n\nEXAMPLES\n     The following is how to do an ls listing sorted by increasing size\n\n           ls -lrS\n\nDIAGNOSTICS\n     The ls utility exits 0 on success, and >0 if an error occurs.\n\nENVIRONMENT\n     The following environment variables affect the execution of ls:\n\n     BLOCKSIZE       If the environment variable BLOCKSIZE is set, the block\n                     counts (see -s) will be displayed in units of that size\n                     block.\n\n     CLICOLOR        Use ANSI color sequences to distinguish file types.  See\n                     LSCOLORS below.  In addition to the file types mentioned\n                     in the -F option some extra attributes (setuid bit set,\n                     etc.) are also displayed.  The colorization is dependent\n                     on a terminal type with the proper termcap(5) capabili-\n                     ties.  The default ``cons25'' console has the proper\n                     capabilities, but to display the colors in an xterm(1),\n                     for example, the TERM variable must be set to\n                     ``xterm-color''.  Other terminal types may require simi-\n                     lar adjustments.  Colorization is silently disabled if\n                     the output isn't directed to a terminal unless the\n                     CLICOLOR_FORCE variable is defined.\n\n     CLICOLOR_FORCE  Color sequences are normally disabled if the output isn't\n                     directed to a terminal.  This can be overridden by set-\n                     ting this flag.  The TERM variable still needs to refer-\n                     ence a color capable terminal however otherwise it is not\n                     possible to determine which color sequences to use.\n\n     COLUMNS         If this variable contains a string representing a decimal\n                     integer, it is used as the column position width for dis-\n                     playing multiple-text-column output.  The ls utility cal-\n                     culates how many pathname text columns to display based\n                     on the width provided.  (See -C and -x.)\n\n     LANG            The locale to use when determining the order of day and\n                     month in the long -l format output.  See environ(7) for\n                     more information.\n\n     LSCOLORS        The value of this variable describes what color to use\n                     for which attribute when colors are enabled with\n                     CLICOLOR.  This string is a concatenation of pairs of the\n                     format fb, where f is the foreground color and b is the\n                     background color.\n\n                     The color designators are as follows:\n\n                           a     black\n                           b     red\n                           c     green\n                           d     brown\n                           e     blue\n                           f     magenta\n                           g     cyan\n                           h     light grey\n                           A     bold black, usually shows up as dark grey\n                           B     bold red\n                           C     bold green\n                           D     bold brown, usually shows up as yellow\n                           E     bold blue\n                           F     bold magenta\n                           G     bold cyan\n                           H     bold light grey; looks like bright white\n                           x     default foreground or background\n\n                     Note that the above are standard ANSI colors.  The actual\n                     display may differ depending on the color capabilities of\n                     the terminal in use.\n\n                     The order of the attributes are as follows:\n\n                           1.   directory\n                           2.   symbolic link\n                           3.   socket\n                           4.   pipe\n                           5.   executable\n                           6.   block special\n                           7.   character special\n                           8.   executable with setuid bit set\n                           9.   executable with setgid bit set\n                           10.  directory writable to others, with sticky bit\n                           11.  directory writable to others, without sticky\n                                bit\n\n                     The default is \"exfxcxdxbxegedabagacad\", i.e. blue fore-\n                     ground and default background for regular directories,\n                     black foreground and red background for setuid executa-\n                     bles, etc.\n\n     LS_COLWIDTHS    If this variable is set, it is considered to be a colon-\n                     delimited list of minimum column widths.  Unreasonable\n                     and insufficient widths are ignored (thus zero signifies\n                     a dynamically sized column).  Not all columns have\n                     changeable widths.  The fields are, in order: inode,\n                     block count, number of links, user name, group name,\n                     flags, file size, file name.\n\n     TERM            The CLICOLOR functionality depends on a terminal type\n                     with color capabilities.\n\n     TZ              The timezone to use when displaying dates.  See\n                     environ(7) for more information.\n\nCOMPATIBILITY\n     The group field is now automatically included in the long listing for\n     files in order to be compatible with the IEEE Std 1003.2 (``POSIX.2'')\n     specification.\n\nLEGACY DESCRIPTION\n     In legacy mode, the -f option does not turn on the -a option and the -g,\n     -n, and -o options do not turn on the -l option.\n\n     Also, the -o option causes the file flags to be included in a long (-l)\n     output; there is no -O option.\n\n     When -H is specified (and not overridden by -L or -P) and a file argument\n     is a symlink that resolves to a non-directory file, the output will\n     reflect the nature of the link, rather than that of the file.  In legacy\n     operation, the output will describe the file.\n\n     For more information about legacy mode, see compat(5).\n\nSEE ALSO\n     chflags(1), chmod(1), sort(1), xterm(1), compat(5), termcap(5),\n     symlink(7), sticky(8)\n\nSTANDARDS\n     The ls utility conforms to IEEE Std 1003.1-2001 (``POSIX.1'').\n\nHISTORY\n     An ls command appeared in Version 1 AT&T UNIX.\n\nBUGS\n     To maintain backward compatibility, the relationships between the many\n     options are quite complex.\n\nBSD                              May 19, 2002                              BSD\n"
     ]
    }
   ],
   "source": [
    "%%bash\n",
    "man ls"
   ]
  },
  {
   "source": [
    "Mastering Bash commands commonly requires application of special characters (e.g. ~ , . , and > ). As you type them at the shell, they act as commands and tell the shell to perform a certain function. I'll review some of these and put them into context. "
   ],
   "cell_type": "markdown",
   "metadata": {}
  },
  {
   "cell_type": "code",
   "execution_count": 12,
   "metadata": {},
   "outputs": [
    {
     "output_type": "stream",
     "name": "stdout",
     "text": [
      "/Users/eyalsoreq/sandbox/dir_2\n"
     ]
    }
   ],
   "source": [
    "%%bash\n",
    "cd ~/sandbox/dir_root # ~ = Home Directory / = Path Directory Separator # = Comment\n",
    "cd . # . = Current Directory You see it in directory listings if you use the -a (all) option with ls.\n",
    "cd ../dir_2 # .. = goto Parent Directory and then to dir_2\n",
    "pwd"
   ]
  },
  {
   "source": [
    "Bash shell supports three types of wildcards, (i.e. ?, * and []). You use wildcards to replace characters in filename templates. A filename that contains a wildcard forms a template that matches a range of filenames, rather than just one.\n",
    "\n",
    "the question mark (?)\n",
    "\n",
    "the asterisk (*)\n",
    "\n",
    "the Character Set ([])"
   ],
   "cell_type": "markdown",
   "metadata": {}
  },
  {
   "cell_type": "code",
   "execution_count": 58,
   "metadata": {},
   "outputs": [
    {
     "output_type": "stream",
     "name": "stdout",
     "text": [
      "dir_2/file_1.txt\ndir_2/file_4.txt\n"
     ]
    }
   ],
   "source": [
    "%%bash\n",
    "ls dir_?/file_[1,4]*"
   ]
  },
  {
   "cell_type": "code",
   "execution_count": 45,
   "metadata": {},
   "outputs": [
    {
     "output_type": "stream",
     "name": "stdout",
     "text": [
      "dir_1/\ndir_2/\ndir_root/\n"
     ]
    }
   ],
   "source": [
    "%%bash\n",
    "ls -d dir_*/ # we can also plot only directories"
   ]
  },
  {
   "source": [
    "You can write as many commands as you like on one command line, so long as you separate each of them by one of the following symbols (i.e. ; , && or &) each with its own distinct properties. \n",
    "\n",
    "The semicolon (;) creates a chain of indepednet commands issued one after the other. This means that if one command fails the other will run nonetheless.\n",
    "\n",
    "The double ampersand (&&) creates a chain of depednet commands issued one after the other. This means that if one command fails the other will not be issued.\n",
    "\n",
    "A single ampersand (&) makes sure that independent commands can be issued one after the other, but run in background processes. This means that if one command fails, the other will run anyway, and that you don't need to wait for it to finish before running the next one. in other words the order dosent matter."
   ],
   "cell_type": "markdown",
   "metadata": {}
  },
  {
   "cell_type": "code",
   "execution_count": 115,
   "metadata": {},
   "outputs": [
    {
     "output_type": "stream",
     "name": "stdout",
     "text": [
      "file_A.txt\nfile_B.txt\nfile_C.txt\nfile_D.txt\nfile_E.txt\nfile_F.txt\n"
     ]
    }
   ],
   "source": [
    "%%bash\n",
    "cd ~/sandbox; mkdir dir_3; cd dir_3; touch file_{A..F}.txt;ls"
   ]
  },
  {
   "cell_type": "code",
   "execution_count": 61,
   "metadata": {},
   "outputs": [
    {
     "output_type": "stream",
     "name": "stdout",
     "text": [
      "mkdir: /Users/eyalsoreq/sandbox/dir_5: No such file or directory\nzsh:cd:1: no such file or directory: dir_5/dir_4\n\u001b[34mdir_1\u001b[m\u001b[m     \u001b[34mdir_2\u001b[m\u001b[m     \u001b[34mdir_root\u001b[m\u001b[m  readme.md\n"
     ]
    }
   ],
   "source": [
    "!cd ~/sandbox; mkdir ~/sandbox/dir_5/dir_4; cd dir_5/dir_4; ls\n",
    "# all commands issued even though the command was invalid "
   ]
  },
  {
   "cell_type": "code",
   "execution_count": 60,
   "metadata": {},
   "outputs": [
    {
     "output_type": "stream",
     "name": "stdout",
     "text": [
      "mkdir: /Users/eyalsoreq/sandbox/dir_5: No such file or directory\n"
     ]
    }
   ],
   "source": [
    "!cd ~/sandbox && mkdir ~/sandbox/dir_5/dir_4 && cd dir_5/dir_4 && ls\n",
    "# commands issued and stopped at the second command "
   ]
  },
  {
   "cell_type": "code",
   "execution_count": 59,
   "metadata": {},
   "outputs": [
    {
     "output_type": "stream",
     "name": "stdout",
     "text": [
      "zsh:cd:1: no such file or directory: dir_5/dir_4\nmkdir: /Users/eyalsoreq/sandbox/dir_5: No such file or directory\n\u001b[34mdir_1\u001b[m\u001b[m     \u001b[34mdir_2\u001b[m\u001b[m     \u001b[34mdir_root\u001b[m\u001b[m  readme.md\n"
     ]
    }
   ],
   "source": [
    "!cd ~/sandbox & mkdir ~/sandbox/dir_5/dir_4 & cd dir_5/dir_4 & ls\n",
    "# all commands issued and stopped at the second command "
   ]
  },
  {
   "source": [
    "Another key "
   ],
   "cell_type": "code",
   "metadata": {},
   "execution_count": null,
   "outputs": []
  },
  {
   "source": [
    "cp"
   ],
   "cell_type": "markdown",
   "metadata": {}
  },
  {
   "source": [
    "mv"
   ],
   "cell_type": "markdown",
   "metadata": {}
  },
  {
   "source": [
    "rm"
   ],
   "cell_type": "markdown",
   "metadata": {}
  },
  {
   "source": [
    "### Basic commands to perform file operations"
   ],
   "cell_type": "markdown",
   "metadata": {}
  },
  {
   "source": [
    "Almost all commands in bash will have some help option (try it!)"
   ],
   "cell_type": "markdown",
   "metadata": {}
  },
  {
   "source": [
    "### File operations"
   ],
   "cell_type": "markdown",
   "metadata": {}
  },
  {
   "source": [
    "### Exercises"
   ],
   "cell_type": "markdown",
   "metadata": {}
  }
 ]
}