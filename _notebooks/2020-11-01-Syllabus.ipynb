{
 "metadata": {
  "language_info": {
   "codemirror_mode": {
    "name": "ipython",
    "version": 3
   },
   "file_extension": ".py",
   "mimetype": "text/x-python",
   "name": "python",
   "nbconvert_exporter": "python",
   "pygments_lexer": "ipython3",
   "version": "3.7.7-final"
  },
  "orig_nbformat": 2,
  "kernelspec": {
   "name": "Python 3.7.7 64-bit ('work_3.7': conda)",
   "display_name": "Python 3.7.7 64-bit ('work_3.7': conda)",
   "metadata": {
    "interpreter": {
     "hash": "82e7f580dc2edfe8c629f94782c5623a5aa37d8393d9191d220d4baf1ad31c44"
    }
   }
  }
 },
 "nbformat": 4,
 "nbformat_minor": 2,
 "cells": [
  {
   "source": [
    "# Syllabus for 2021 course \n",
    "\n",
    "- toc: true \n",
    "- badges: true\n",
    "- comments: true\n",
    "- categories: [jupyter]"
   ],
   "cell_type": "markdown",
   "metadata": {}
  },
  {
   "source": [
    "> important: The first five days contain more information than the other days "
   ],
   "cell_type": "markdown",
   "metadata": {}
  },
  {
   "source": [
    "# Boot Camp (BC)"
   ],
   "cell_type": "markdown",
   "metadata": {}
  },
  {
   "source": [
    "## BC Day One - Bash essentials \n",
    "### Introduction to Linux based command line interactions\n",
    "### Basic commands\n",
    "1. Basic operations and working with files\n",
    "1. File operations\n",
    "1. User environment\n",
    "1. Text editors (vi/vim, nano or emacs)\n",
    "1. Text manipulation (cat, echo, sed, awk, grep, tr, wc, cut)\n",
    "### Programing and customisation of your environment\n",
    "1. Basic scripting \n",
    "1. Functions and shell scripts \n",
    "1. SSH and Git basics "
   ],
   "cell_type": "markdown",
   "metadata": {}
  },
  {
   "source": [
    "## BC Day Two - Python essentials \n",
    "\n",
    "### Python core tools\n",
    "1. Printing in python\n",
    "1. Data Types\n",
    "1. Variables\n",
    "1. Expressions\n",
    "1. String Operations\n",
    "### Data Structures in Python \n",
    "1. Lists\n",
    "1. Tuples\n",
    "1. Sets\n",
    "1. Dictionaries\n",
    "### Programming Fundamentals using Python \n",
    "1. Conditions\n",
    "1. Loops\n",
    "1. list comprehension \n",
    "1. Lambda Functions\n",
    "### Style Guide Recommendation\n",
    "1. General Guidelines\n",
    "    - Explicit code\n",
    "    - One statement per line\n",
    "    - Function arguments\n",
    "    - Unpacking\n",
    "1. Zen of Python\n",
    "1. PEP 8\n",
    "1. Conventions\n",
    "    - Check if a variable equals a constant\n",
    "    - Access a Dictionary Element\n",
    "    - Short Ways to Manipulate Lists\n",
    "    - Filtering a list\n",
    "    - Modifying the values in a list\n",
    "    - Line Continuations\n",
    "### Taking python to the next level \n",
    "1. Functions\n",
    "1. Classes \n",
    "1. Modules\n",
    "1. Packages \n",
    "\n",
    "\n",
    "  "
   ],
   "cell_type": "markdown",
   "metadata": {}
  },
  {
   "source": [
    "#hide\n",
    "\n",
    "https://totaldatascience.com/wp-content/uploads/2019/10/p64.png\n",
    "\n",
    "https://medium.com/@mrbriit/20-free-visualization-cheat-sheets-for-every-data-scientist-to-download-ceee741ba3ca\n",
    "\n",
    "https://procomm.ieee.org/elements-of-visual-communication/"
   ],
   "cell_type": "markdown",
   "metadata": {}
  },
  {
   "source": [
    "## BC Day Three - Data visualization basics \n",
    "### Introduction to exploratory data visualization (EDV)\n",
    "1. Deviation from a baseline \n",
    "1. Correlation between variables  \n",
    "1. Ranking across categories \n",
    "1. Distribution of variables   \n",
    "1. Temporal Change of variables    \n",
    "1. Relative and absolute magnitude comparisons of variables\n",
    "1. Part-to-whole Relationship \n",
    "1. Spatial magnitude, change or deviation plots\n",
    "1. Flow plots \n",
    "### Visual communication basics \n",
    "1. Graphic elements attributes \n",
    "    - Shape\n",
    "    - Position\n",
    "    - Size\n",
    "    - Color\n",
    "    - Orientation \n",
    "    - Opacity \n",
    "1. Composition attributes\n",
    "    - Contrast \n",
    "    - Repetition\n",
    "    - Alignment \n",
    "    - Proximity\n",
    "    - Hierarchy\n",
    "    - Grouping\n",
    "    - Sequence\n",
    "    - Space\n",
    "### Basics of Matplotlib \n",
    "1. Parts of a Figure\n",
    "1. Backends\n",
    "1. EDV examples\n",
    "\n"
   ],
   "cell_type": "markdown",
   "metadata": {}
  },
  {
   "source": [
    "## BC Day Four - Numpy essentials \n",
    "### Numpy basics \n",
    "1. Data types \n",
    "1. Vectors, Arrays, Volumes and Beyond\n",
    "1. Adding, removing, sorting elements\n",
    "1. Indexing, and slicing arrays \n",
    "1. Views and copies of arrays\n",
    "1. Array operations basics (e.g. sum, max etc. )\n",
    "1. Random basics\n",
    "### Numpy advanced \n",
    "1. Transposing, reshaping and flattening a matrix\n",
    "1. Matrix Operations \n",
    "1. Vectorization\n"
   ],
   "cell_type": "markdown",
   "metadata": {}
  },
  {
   "source": [
    "## BC Day Five - Pandas essentials \n",
    "### Introduction to pandas \n",
    "1. Creating, updating, extending, changing and saving Pandas Data Structures\n",
    "1. Wide, long and hierarchical data frames\n",
    "1. Indexing and slicing data frames\n",
    "1. Cleaning and transforming data \n",
    "1. Merging joining and concatenation of data frames \n"
   ],
   "cell_type": "markdown",
   "metadata": {}
  },
  {
   "source": [
    "# Artificial Intelligence & Intelligent Systems"
   ],
   "cell_type": "markdown",
   "metadata": {}
  },
  {
   "source": [
    "## Week one - Reproducible research\n",
    "> Note: 30 minutes (20 min students presentation + 10 min discussion) \n",
    "\n",
    "### Ten Simple Rules for Reproducible Research\n",
    "\n",
    "Article: [Ten Simple Rules for Reproducible Research in Jupyter Notebooks](https://journals.plos.org/ploscompbiol/article?id=10.1371/journal.pcbi.1007007&utm_campaign=The%20ML%20Times%20&utm_medium=email&utm_source=Revue%20newsletter)\n",
    "\n",
    "> Note: 45 minutes Hands-on exercise \n",
    "\n",
    "### Markdown basics in Jupyter  \n",
    "1. Markdown Syntax\n",
    "1. Hyperlinks And References\n",
    "1. Mathematical Equations And LaTeX\n",
    "1. Creating Tables\n",
    "\n",
    "> Note: 15 minutes presentation on\n",
    "\n",
    "### From Replicability to Reproducibility\n",
    "1. Levels of Reproducibility\n",
    "1. Things to avoid\n",
    "1. Tools of the trade \n",
    "\n"
   ],
   "cell_type": "markdown",
   "metadata": {}
  },
  {
   "source": [
    "#hide\n",
    " \n",
    "Article: [A Cognitive Interpretation of Data Analysis](https://onlinelibrary.wiley.com/doi/full/10.1111/insr.12028?casa_token=m3tegURGHpQAAAAA%3A4oSS06AOaulGnl_a1NM3sLdwTEHtb5EsvrDUs8sgQmSYNLx7JBTIH27aMlz_UJ0FzNuiG6RvPeuEUOB8)"
   ],
   "cell_type": "markdown",
   "metadata": {}
  },
  {
   "source": [
    "## Week Two - Exploratory Data Analysis\n",
    "\n",
    "> Note: 30 minutes (20 min students presentation + 10 min discussion) \n",
    "\n",
    "### Point of View: Open exploration\n",
    "\n",
    "Article: [Point of View: Open exploration](https://elifesciences.org/articles/52157)\n",
    "\n",
    "> Note: 45 minutes Hands-on exercise \n",
    "\n",
    "### Exploratory Data Analysis\n",
    "\n",
    "1. Generating an EDA preliminary report \n",
    "1. Descriptive EDA Tables\n",
    "1. EDA Plots\n",
    "\n",
    "> Note: 15 minutes presentation on\n",
    "\n",
    "### Data Analysis exploratory cycle \n",
    "1. Preliminary inspection of data using EDA\n",
    "1. Common First Steps In Any EDA\n",
    "1. Different Data Types\n",
    "1. Populations, Samples And Distributions\n",
    "1. Things to avoid\n"
   ],
   "cell_type": "markdown",
   "metadata": {}
  },
  {
   "source": [
    "## Week Three - Data Acquisition, cleaning and Curation\n",
    "\n",
    "> Note: 30 minutes (20 min students presentation + 10 min discussion) \n",
    "\n",
    "### Reproducibility in Cognitive Neuroscience\n",
    "\n",
    "Article: [Progress Toward Openness, Transparency, and Reproducibility in Cognitive Neuroscience](https://www.ncbi.nlm.nih.gov/pmc/articles/PMC5545750/)\n",
    "\n",
    "> Note: 45 minutes Hands-on exercise \n",
    "\n",
    "### Dealing with big data \n",
    "\n",
    "1. Downloading and storing data locally \n",
    "1. Cleaning data in a non-destructive way \n",
    "1. Creating a pre-processing report \n",
    "\n",
    "> Note: 15 minutes presentation on\n",
    "\n",
    "### Data curation challenges in different domains \n",
    "1. Mapping the data lake of Cognitive Neuroscience\n",
    "1. Modality general and specific pitfalls \n",
    "1. Challenges in Data synthesis \n",
    "\n"
   ],
   "cell_type": "markdown",
   "metadata": {}
  },
  {
   "source": [
    "## Week four - Data mining and feature engineering\n",
    "\n",
    "> Note: 30 minutes (20 min students presentation + 10 min discussion) \n",
    "\n",
    "### Fantastic Features and Where to Find Them\n",
    "\n",
    "Article: [Fantastic Features and Where to Find Them: Detecting CognitiveImpairment with a Subsequence Classification Guided Approach](https://kopernio.com/viewer?doi=arxiv%3A2010.06579&token=WzM2MTksImFyeGl2OjIwMTAuMDY1NzkiXQ.8Aq4-_93nlp2uj2OIv-xZ1cyTBo)\n",
    "\n",
    "> Note: 45 minutes of Hands-on exercise \n",
    "\n",
    "### Creating features based on domain expertise \n",
    "1. Downloading and storing data locally \n",
    "1. Cleaning data in a non-destructive way \n",
    "1. Creating a pre-processing report \n",
    "\n",
    "> Note: 15 minutes presentation on\n",
    "\n",
    "### Feature Engineering\n",
    "1. Variable transformation.\n",
    "    - scale change\n",
    "    - simplify non-linear relationships into linear relationships\n",
    "    - transform skewed distribution into Symmetric distribution\n",
    "2. Transformation methods\n",
    "    - Logarithm\n",
    "    - Square / Cube root\n",
    "    - Binning\n",
    "3. Variable / Feature creation.\n",
    "    - Derived variables\n",
    "    - Dummy variables\n",
    "    - Domain expert variables \n",
    "\n",
    "\n",
    "\n"
   ],
   "cell_type": "markdown",
   "metadata": {}
  },
  {
   "source": [
    "## Week five - Dimensionality reduction and unsupervised learning \n",
    "\n",
    "> Note: 30 minutes (20 min students presentation + 10 min discussion) \n",
    "\n",
    "### Ghosts in machine learning for cognitive neuroscience\n",
    "\n",
    "Article: [Ghosts in machine learning for cognitive neuroscience: Moving from datato theory](https://www.sciencedirect.com/science/article/abs/pii/S1053811917306663)\n",
    "\n",
    "> Note: 45 minutes of Hands-on exercise \n",
    "\n",
    "### Dimensionality reduction a multi-edged sword \n",
    "1. Understanding Dimensionality reduction application and theory \n",
    "    1. Principal component analysis basics\n",
    "    1. Global vs local non-linear approaches\n",
    "    1. Visualising complex states \n",
    "    \n",
    "> Note: 15 minutes overview on Dimensionality reduction\n",
    "\n"
   ],
   "cell_type": "markdown",
   "metadata": {}
  },
  {
   "source": [
    "## Week six - Data clustering \n",
    "\n",
    "> Note: 30 minutes (20 min students presentation + 10 min discussion) \n",
    "\n",
    "### Visual field map clusters \n",
    "\n",
    "Article: [Visual field map clusters in human frontoparietal cortex](https://elifesciences.org/articles/22974)\n",
    "\n",
    "\n",
    "> Note: 30 minutes overview on Cluster Analysis\n",
    "\n",
    "### Overview on Cluster Analysis\n",
    "1. Cluster Analysis Basics\n",
    "    - What is Cluster Analysis?\n",
    "    - Applications of Cluster Analysis\n",
    "    - Putting Clustering into Context\n",
    "    - The Benefits of Cluster Analysis\n",
    "    - The Different Types of Cluster Analysis\n",
    "1. What are proximity metrices\n",
    "    - Distance metrics\n",
    "    - Similarity metrics    \n",
    "1. Intution behind common Cluster Algorithms\n",
    "1. Clustering performance evaluation for Known classes and Unknown classes \n",
    "    \n",
    "> Note: 30 minutes of Hands-on exercise \n",
    "\n",
    "### Comparing clustering algoritems on controlled toy data-sets\n",
    "1. K-Means Clustering\n",
    "2. Spectral Clustering\n",
    "3. Density-Based Spatial Clustering of Applications with Noise\n",
    "4. Agglomerative Hierarchical Clustering\n",
    "\n",
    "\n"
   ],
   "cell_type": "markdown",
   "metadata": {}
  },
  {
   "source": [
    "# Week seven - Supervised learning (regression models)"
   ],
   "cell_type": "markdown",
   "metadata": {}
  }
 ]
}