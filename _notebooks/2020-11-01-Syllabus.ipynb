{
 "cells": [
  {
   "cell_type": "markdown",
   "metadata": {},
   "source": [
    "# 2021 Course Syllabus  \n",
    "\n",
    "- toc: true \n",
    "- badges: false\n",
    "- comments: true\n",
    "- categories: [Syllabus]\n"
   ]
  },
  {
   "cell_type": "markdown",
   "metadata": {},
   "source": []
  },
  {
   "cell_type": "markdown",
   "metadata": {},
   "source": [
    "# Boot Camp \n",
    "The five-day Boot Camp pre-course will introduce the learners with programming and computing fundamentals. Each day is composed of five short (up to 25 minutes) online sessions and complimentary reading material.  The goal of this pre-course is to supply learners with little or no background with the essential vocabulary needed to be able to read and comprehend code.  The complementary material will also contain exercises to allow the learners to test their understanding of the covered material. "
   ]
  },
  {
   "cell_type": "markdown",
   "metadata": {},
   "source": [
    "#hide\n",
    "https://chrisalbon.com/"
   ]
  },
  {
   "cell_type": "markdown",
   "metadata": {},
   "source": [
    "## **Day One - Bash essentials** \n",
    "\n",
    "> note: check gwdg framework and consider doing a reduced version of this to start up python early\n",
    "\n",
    "### **Introduction to Linux based command line interactions**\n",
    "- Background & historical context \n",
    "- Basic commands \n",
    "- File operations \n",
    "\n",
    "### **Environment baseline **\n",
    "- User environment\n",
    "- Permissions \n",
    "\n",
    "### **Customisation of your environment**\n",
    "- Aliases \n",
    "- Text editors (vi/vim, nano or emacs)\n",
    "- Symbolic links \n",
    "\n",
    "### **CLI Programing**\n",
    "- Basic scripting \n",
    "- Functions and shell scripts \n",
    "- Text manipulation (cat, echo, sed, awk, grep, tr, wc, cut)\n",
    "\n",
    "### **Remote interaction** \n",
    "- Rsync \n",
    "- SSH \n",
    "- Git "
   ]
  },
  {
   "cell_type": "markdown",
   "metadata": {},
   "source": [
    "#hide\n",
    "\n",
    "### Style Guide Recommendation\n",
    "1. General Guidelines\n",
    "    - Explicit code\n",
    "    - One statement per line\n",
    "    - Function arguments\n",
    "    - Unpacking\n",
    "1. Zen of Python\n",
    "1. PEP 8\n",
    "1. Conventions\n",
    "    - Check if a variable equals a constant\n",
    "    - Access a Dictionary Element\n",
    "    - Short Ways to Manipulate Lists\n",
    "    - Filtering a list\n",
    "    - Modifying the values in a list\n",
    "    - Line Continuations"
   ]
  },
  {
   "cell_type": "markdown",
   "metadata": {},
   "source": [
    "## **Day Two - Python essentials** \n",
    "\n",
    "### **Jupyter notebooks and Python style** \n",
    "\n",
    "- What is Markdown\n",
    "- General Guidelines\n",
    "- Zen of Python\n",
    "- Conventions\n",
    "\n",
    "### **Python core tools**\n",
    "\n",
    "- Printing in python\n",
    "- Data Types\n",
    "- Variables\n",
    "- Expressions\n",
    "- String Operations\n",
    "\n",
    "### **Data Structures in Python** \n",
    "\n",
    "- Lists\n",
    "- Tuples\n",
    "- Sets\n",
    "- Dictionaries\n",
    "\n",
    "### **Programming Fundamentals using Python** \n",
    "\n",
    "- Conditions\n",
    "- Loops\n",
    "- list comprehension \n",
    "- Lambda Functions\n",
    "\n",
    "### **Taking python to the next level** \n",
    "\n",
    "- Functions\n",
    "- Classes \n",
    "- Modules\n",
    "- Packages \n",
    "\n",
    "\n",
    "  "
   ]
  },
  {
   "cell_type": "markdown",
   "metadata": {},
   "source": [
    "#hide\n",
    "\n",
    "https://totaldatascience.com/wp-content/uploads/2019/10/p64.png\n",
    "\n",
    "https://medium.com/@mrbriit/20-free-visualization-cheat-sheets-for-every-data-scientist-to-download-ceee741ba3ca\n",
    "\n",
    "https://procomm.ieee.org/elements-of-visual-communication/\n",
    "\n",
    "1. Deviation from a baseline \n",
    "1. Correlation between variables  \n",
    "1. Ranking across categories \n",
    "1. Distribution of variables   \n",
    "1. Temporal Change of variables    \n",
    "1. Relative and absolute magnitude comparisons of variables\n",
    "1. Part-to-whole Relationship \n",
    "1. Spatial magnitude, change or deviation plots\n",
    "1. Flow plots \n",
    "\n",
    "### Visual communication basics \n",
    "\n",
    "1. Graphic elements attributes \n",
    "    - Shape\n",
    "    - Position\n",
    "    - Size\n",
    "    - Color\n",
    "    - Orientation \n",
    "    - Opacity \n",
    "\n",
    "1. Composition attributes\n",
    "    - Contrast \n",
    "    - Repetition\n",
    "    - Alignment \n",
    "    - Proximity\n",
    "    - Hierarchy\n",
    "    - Grouping\n",
    "    - Sequence\n",
    "    - Space\n",
    "\n",
    "\n"
   ]
  },
  {
   "cell_type": "markdown",
   "metadata": {},
   "source": [
    "## **Day Three - Data visualization basics** \n",
    "\n",
    "### **Introduction to Data visualization**\n",
    "\n",
    "- What is data visualization? \n",
    "- Why is data visualization important?\n",
    "- What are Data Visualization Techniques?\n",
    "\n",
    "### **Visual communication basics** \n",
    "\n",
    "- Perception and communication\n",
    "- Graphic elements \n",
    "- Composition basics \n",
    "\n",
    "### **Introduction to exploratory data visualization**\n",
    "\n",
    "- What is exploratory data visualization?\n",
    "- How can we use exploratory plots to explore our data \n",
    "- Effective exploratory data visualization\n",
    "\n",
    "### **Static data visualization (matplotlib and seaborn)**\n",
    "\n",
    "- Figure elements\n",
    "- Mastering the axes \n",
    "- Practical examples with code \n",
    "\n",
    "### **Dynamic data visualization (Plotly or Altair)**\n",
    "\n",
    "- When to use dynamic plots\n",
    "- Quick hacks\n",
    "- Practical examples with code \n",
    "\n",
    "\n"
   ]
  },
  {
   "cell_type": "markdown",
   "metadata": {},
   "source": [
    "## **Day Four - Numpy essentials** \n",
    "\n",
    "### **Data types**\n",
    "\n",
    "- Boolean\n",
    "- Object\n",
    "- Scalars\n",
    "- Vectors, Arrays, Volumes and Beyond\n",
    "\n",
    "\n",
    "### **Array objects**\n",
    "\n",
    "- Adding, removing, sorting elements\n",
    "- Indexing, and slicing arrays \n",
    "- Views and copies of arrays\n",
    "- Array operations (e.g. sum, max etc. )\n",
    "\n",
    "\n",
    "### **Matrix creation and manipulation** \n",
    "\n",
    "- Creating matrices \n",
    "- Matrix operations\n",
    "- Vectorization\n",
    "- Concreate examples \n",
    "\n",
    "\n",
    "### **Random sampling and distributions**\n",
    "\n",
    "- Uniform random data creation\n",
    "- Using Numpy to perfom permutations \n",
    "- Using Numpy to sample from a distribution\n",
    "\n",
    "### **Numpy and scipy statistics** \n",
    "\n",
    "- Order statistics\n",
    "- Averages and variances\n",
    "- Correlation and histograms\n"
   ]
  },
  {
   "cell_type": "markdown",
   "metadata": {},
   "source": [
    "#hide\n",
    "https://github.com/guipsamora/pandas_exercises"
   ]
  },
  {
   "cell_type": "markdown",
   "metadata": {},
   "source": [
    "## **Day Five - Pandas essentials** \n",
    "\n",
    "### **Series and DataFrames in pandas** \n",
    "- Creating, Updating, Extending and Saving Pandas Data Structures\n",
    "- Data types \n",
    "- Dataframe methods\n",
    "\n",
    "### **DataFrames navigation basics** \n",
    "- Indexing and slicing \n",
    "- Sorting and reordering\n",
    "- Multi-index and reindexing\n",
    "\n",
    "### **Data cleaning basics** \n",
    "- Filtering, Sorting and dropping\n",
    "- Concatenatinating, merging and joining\n",
    "- Imputing, removing and flagging\n",
    "\n",
    "### **Data transformation basics** \n",
    "- Transformation, \n",
    "- Rescaling and\n",
    "- Encoding \n",
    "\n",
    "### **data summarization basics** \n",
    "- Reshaping and melting\n",
    "- Grouping, pivot and pivot tables \n",
    "- Statistics and reports \n",
    "\n",
    "\n"
   ]
  },
  {
   "cell_type": "markdown",
   "metadata": {},
   "source": [
    "# **Artificial Intelligence & Intelligent Systems**\n",
    "\n",
    "This course aims to provide both intuitions and applied knowledge on fundamental methods in modern data science and how to use them to address neurocognitive questions. It will also provide you with a strong foundation on how to conduct reproducible research using python and central scientific python packages. Finally, each week a student pair will be asked to review and present a scientific paper that exemplifies the centrality of that week's concepts in the neurocognitive field."
   ]
  },
  {
   "cell_type": "markdown",
   "metadata": {},
   "source": [
    "## **Week One - Intelligence**\n",
    "\n",
    "> Note: 15 minutes (10 min presentation + 5 min discussion) \n",
    "\n",
    "### **Course introduction and guidelines** \n",
    "\n",
    "> Note: 25 minutes (15 min presentation + 10 min discussion) \n",
    "\n",
    "### **What is Intelligence**\n",
    "\n",
    "> Note: 25 minutes (15 min presentation + 10 min discussion) \n",
    "\n",
    "### **What is Artificial Intelligence**\n",
    "\n",
    "> Note: 25 minutes (15 min presentation + 10 min discussion) \n",
    "\n",
    "### **Neuroscience and intelligence**"
   ]
  },
  {
   "cell_type": "markdown",
   "metadata": {},
   "source": [
    "#hide\n",
    "\n",
    "wiki : [Neuroscience and intelligence\n",
    "](https://en.wikipedia.org/wiki/Neuroscience_and_intelligence#Humans)"
   ]
  },
  {
   "cell_type": "markdown",
   "metadata": {},
   "source": [
    "## **Week Two - Reproducible research**\n",
    "\n",
    "### **Ten Simple Rules for Reproducible Research**\n",
    "\n",
    "> Note: 30 minutes (20 min students presentation + 10 min discussion) \n",
    "\n",
    "Article: [Ten Simple Rules for Reproducible Research in Jupyter Notebooks](https://journals.plos.org/ploscompbiol/article?id=10.1371/journal.pcbi.1007007&utm_campaign=The%20ML%20Times%20&utm_medium=email&utm_source=Revue%20newsletter)\n",
    " \n",
    " \n",
    "### **Markdown basics in Jupyter**  \n",
    "\n",
    "> Note: 30 minutes Hands-on exercise \n",
    "\n",
    "1. Markdown Syntax\n",
    "1. Hyperlinks And References\n",
    "1. Mathematical Equations And LaTeX\n",
    "1. Creating Tables \n",
    "\n",
    "### **From Replicability to Reproducibility**\n",
    "\n",
    "> Note: 30 minutes presentation\n",
    "\n",
    "\n",
    "1. Levels of Reproducibility\n",
    "1. Things to avoid\n",
    "1. Tools of the trade "
   ]
  },
  {
   "cell_type": "markdown",
   "metadata": {},
   "source": [
    "#hide\n",
    " \n",
    "Article: [A Cognitive Interpretation of Data Analysis](https://onlinelibrary.wiley.com/doi/full/10.1111/insr.12028?casa_token=m3tegURGHpQAAAAA%3A4oSS06AOaulGnl_a1NM3sLdwTEHtb5EsvrDUs8sgQmSYNLx7JBTIH27aMlz_UJ0FzNuiG6RvPeuEUOB8)"
   ]
  },
  {
   "cell_type": "markdown",
   "metadata": {},
   "source": [
    "## **Week Three - Data Acquisition, cleaning and Curation**\n",
    "\n",
    "### **Reproducibility in Cognitive Neuroscience**\n",
    "\n",
    "> Note: 30 minutes (20 min students presentation + 10 min discussion) \n",
    "\n",
    "Article: [Progress Toward Openness, Transparency, and Reproducibility in Cognitive Neuroscience](https://www.ncbi.nlm.nih.gov/pmc/articles/PMC5545750/)\n",
    "\n",
    "### **Dealing with big data** \n",
    "\n",
    "> Note: 45 minutes Hands-on exercise \n",
    "\n",
    "1. Downloading and storing data locally \n",
    "1. Cleaning data in a non-destructive way \n",
    "1. Creating a pre-processing report \n",
    "\n",
    "### **Data curation challenges in different domains** \n",
    "\n",
    "> Note: 15 minutes presentation on\n",
    "\n",
    "1. Mapping the data lake of Cognitive Neuroscience\n",
    "1. Modality general and specific pitfalls \n",
    "1. Challenges in Data synthesis "
   ]
  },
  {
   "cell_type": "markdown",
   "metadata": {},
   "source": [
    "## **Week Four - Exploratory Data Analysis**\n",
    "\n",
    "### **Point of View: Open exploration**\n",
    "\n",
    "> Note: 30 minutes (20 min students presentation + 10 min discussion) \n",
    "\n",
    "Article: [Point of View: Open exploration](https://elifesciences.org/articles/52157)\n",
    "\n",
    "### **Exploratory Data Analysis**\n",
    "\n",
    "> Note: 45 minutes Hands-on exercise \n",
    "\n",
    "1. Generating an EDA preliminary report \n",
    "1. Descriptive EDA Tables\n",
    "1. EDA Plots\n",
    "\n",
    "### **Data Analysis exploratory cycle** \n",
    "\n",
    "> Note: 15 minutes presentation on\n",
    "> Note: Contrast with confirmatory \n",
    "\n",
    "1. Preliminary inspection of data using EDA\n",
    "1. Common First Steps In Any EDA\n",
    "1. Different Data Types\n",
    "1. Populations, Samples And Distributions\n",
    "1. Things to avoid"
   ]
  },
  {
   "cell_type": "markdown",
   "metadata": {},
   "source": [
    "## **Week five - Data mining and feature engineering**\n",
    "\n",
    "### **Fantastic Features and Where to Find Them**\n",
    "\n",
    "> Note: 30 minutes (20 min students presentation + 10 min discussion) \n",
    "\n",
    "Article: [Fantastic Features and Where to Find Them: Detecting CognitiveImpairment with a Subsequence Classification Guided Approach](https://kopernio.com/viewer?doi=arxiv%3A2010.06579&token=WzM2MTksImFyeGl2OjIwMTAuMDY1NzkiXQ.8Aq4-_93nlp2uj2OIv-xZ1cyTBo)\n",
    "\n",
    "### **Creating features based on domain expertise **\n",
    "\n",
    "> Note: 30 minutes of Hands-on exercise \n",
    "\n",
    "1. Downloading and storing data locally \n",
    "1. Cleaning data in a non-destructive way \n",
    "1. Creating a pre-processing report \n",
    "\n",
    "\n",
    "### **A Brief Introduction to Feature Engineering**\n",
    "\n",
    "> Note: 30 minutes presentation on\n",
    "\n",
    "1. Variable transformation.\n",
    "\n",
    "    - scale change\n",
    "    - simplify non-linear relationships into linear relationships\n",
    "    - transform skewed distribution into Symmetric distribution\n",
    "\n",
    "2. Transformation methods\n",
    "\n",
    "    - Logarithm\n",
    "    - Square / Cube root\n",
    "    - Binning\n",
    "\n",
    "3. Variable / Feature creation.\n",
    "    - Derived variables\n",
    "    - Dummy variables\n",
    "    - Domain expert variables "
   ]
  },
  {
   "cell_type": "markdown",
   "metadata": {},
   "source": [
    "## **Week six - Dimensionality reduction and unsupervised learning** "
   ]
  },
  {
   "cell_type": "markdown",
   "metadata": {},
   "source": [
    "### **Ghosts in machine learning for cognitive neuroscience**\n",
    "\n",
    "> Note: 30 minutes (20 min students presentation + 10 min discussion) \n",
    "\n",
    "Article: [Ghosts in machine learning for cognitive neuroscience: Moving from datato theory](https://www.sciencedirect.com/science/article/abs/pii/S1053811917306663)"
   ]
  },
  {
   "cell_type": "markdown",
   "metadata": {},
   "source": [
    "### **A Brief Introduction to Unsupervised Learning (part 1)**\n",
    "Note: on week three there is ICA covered in the methods   \n",
    "\n",
    "1. What is Dimensionality reduction?\n",
    "1. Feature selection/elimination\n",
    "1. Feature extraction\n",
    "1. Visualizing high dimensional spaces \n",
    "\n",
    "> Note: 30 minutes online presentation"
   ]
  },
  {
   "cell_type": "markdown",
   "metadata": {},
   "source": [
    "### **Dimensionality reduction a multi-edged sword**\n",
    "\n",
    "> Note: 30 minutes of Hands-on exercise \n",
    "\n",
    "1. Understanding Dimensionality reduction application and theory \n",
    "    1. Principal component analysis basics\n",
    "    1. Global vs local non-linear approaches\n",
    "    1. Visualising complex states "
   ]
  },
  {
   "cell_type": "markdown",
   "metadata": {},
   "source": [
    "## **Week seven - Data clustering** "
   ]
  },
  {
   "cell_type": "markdown",
   "metadata": {},
   "source": [
    "### **A Brief Introduction to Unsupervised Learning (part 2)**\n",
    "\n",
    "> Note: 30 minutes presentation\n",
    "\n",
    "1. Cluster Analysis Basics\n",
    "    - What is Cluster Analysis?\n",
    "    - Applications of Cluster Analysis\n",
    "    - Putting Clustering into Context\n",
    "    - The Benefits of Cluster Analysis\n",
    "    - The Different Types of Cluster Analysis\n",
    "1. What are proximity metrices\n",
    "    - Distance metrics\n",
    "    - Similarity metrics    \n",
    "1. Intution behind common Cluster Algorithms\n",
    "1. Clustering performance evaluation for Known classes and Unknown classes \n",
    "    "
   ]
  },
  {
   "cell_type": "markdown",
   "metadata": {},
   "source": [
    "### **Visual field map clusters** \n",
    "TODO: change example with brain volume as a function of sex \n",
    "\n",
    "> Note: 30 minutes (20 min students presentation + 10 min discussion) \n",
    "\n",
    "Article: [Visual field map clusters in human frontoparietal cortex](https://elifesciences.org/articles/22974)"
   ]
  },
  {
   "cell_type": "markdown",
   "metadata": {},
   "source": [
    "### **Comparing clustering algoritems on controlled toy data-sets**\n",
    "\n",
    "> Note: 30 minutes of Hands-on exercise \n",
    "\n",
    "1. K-Means Clustering\n",
    "2. Spectral Clustering\n",
    "3. Density-Based Spatial Clustering of Applications with Noise\n",
    "4. Agglomerative Hierarchical Clustering"
   ]
  },
  {
   "cell_type": "markdown",
   "metadata": {},
   "source": [
    "## **Week eight - Supervised learning (classification models)**\n",
    "\n",
    "### **A Brief Introduction on Supervised Learning (part 2)**\n",
    "\n",
    "> Note: 30 minutes presentation\n",
    "\n",
    "1. Introduction to classification models\n",
    "1. Parametric and Non-parametric classification\n",
    "1. Benefits and Challenges of classification models\n",
    "1. Intution behind common classification Algorithms\n",
    "1. Classification performance evaluation metrics\n"
   ]
  },
  {
   "cell_type": "markdown",
   "metadata": {},
   "source": [
    "### **Classification of Early and Late MCI Using rs-fMRI**\n",
    "\n",
    "> Note: 30 minutes (20 min students presentation + 10 min discussion) \n",
    "\n",
    "[Classification of Early and Late Mild Cognitive Impairment Using Functional Brain Network of Resting-State fMRI](https://www.frontiersin.org/articles/10.3389/fpsyt.2019.00572/full)\n",
    "\n",
    "\n"
   ]
  },
  {
   "cell_type": "markdown",
   "metadata": {},
   "source": [
    "### **Comparing classification algoritems on controlled toy data-sets**\n",
    "\n",
    "> Note: 30 minutes of Hands-on exercise\n",
    "\n",
    "1. K-nearest neighbors  \n",
    "1. Logistic Linear Regression\n",
    "1. Support Vector Machines\n",
    "1. Classification trees "
   ]
  },
  {
   "cell_type": "markdown",
   "metadata": {},
   "source": [
    "## **Week nine - Supervised learning (regression models)**\n",
    "\n",
    "### **A Brief Introduction on Supervised Learning (part 1)**\n",
    "\n",
    "> Note: 30 minutes presentation\n",
    "\n",
    "1. Introduction to Predictive regression Modeling\n",
    "1. Parametric and Non-parametric Models\n",
    "1. Benefits and Challenges of Predictive regression Modeling\n",
    "1. Intution behind common Predictive Algorithms\n",
    "1. Predictiction performance evaluation metrics\n",
    "\n",
    "### **Predicting general intelligence from fMRI**\n",
    "\n",
    "> Note: 30 minutes (20 min students presentation + 10 min discussion) \n",
    "\n",
    "[A distributed brain network predicts general intelligence from resting-state human neuroimaging data](https://royalsocietypublishing.org/doi/full/10.1098/rstb.2017.0284)\n",
    "\n",
    "\n",
    "### **Comparing regression algoritems on controlled toy data-sets**\n",
    "\n",
    "> Note: 30 minutes of Hands-on exercise \n",
    "\n",
    "1. Linear Regression\n",
    "1. From Lasso to Ridge Regression\n",
    "1. Support Vector Machines \n",
    "1. Polynomial regression"
   ]
  },
  {
   "cell_type": "markdown",
   "metadata": {},
   "source": [
    "## **Week ten - Supervised learning (ensemble models)** \n",
    "\n",
    "### **A Brief Introduction on Supervised Learning (part 3)**\n",
    "\n",
    "> Note: 30 minutes presentation\n",
    "\n",
    "1. What is ensemble learning?\n",
    "1. Benefits and Challenges of ensemble learning models\n",
    "1. Intution behind bagging, boosting and stacking\n",
    "1. Opening the black box - what insights can we gain from looking inside ensemble models"
   ]
  },
  {
   "cell_type": "markdown",
   "metadata": {},
   "source": [
    "### **Improving fluid intelligence predictive modelling using Bootstrap aggregation**\n",
    "\n",
    "> Note: 30 minutes (20 min students presentation + 10 min discussion) \n",
    "\n",
    "[Bootstrap aggregating improves the generalizability   of   Connectome Predictive Modelling](https://www.biorxiv.org/content/10.1101/2020.07.08.193664v1.full)"
   ]
  },
  {
   "cell_type": "markdown",
   "metadata": {},
   "source": [
    "### **End of course individual assignment** \n",
    "\n",
    "> Note: 30 minutes overview and discussion of the end of course data-set and assignment requirements"
   ]
  }
 ],
 "metadata": {
  "kernelspec": {
   "display_name": ".venv",
   "language": "python",
   "name": ".venv"
  },
  "language_info": {
   "codemirror_mode": {
    "name": "ipython",
    "version": 3
   },
   "file_extension": ".py",
   "mimetype": "text/x-python",
   "name": "python",
   "nbconvert_exporter": "python",
   "pygments_lexer": "ipython3",
   "version": "3.8.6"
  }
 },
 "nbformat": 4,
 "nbformat_minor": 4
}
