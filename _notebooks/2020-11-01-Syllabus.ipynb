{
 "metadata": {
  "language_info": {
   "codemirror_mode": {
    "name": "ipython",
    "version": 3
   },
   "file_extension": ".py",
   "mimetype": "text/x-python",
   "name": "python",
   "nbconvert_exporter": "python",
   "pygments_lexer": "ipython3",
   "version": "3.7.7-final"
  },
  "orig_nbformat": 2,
  "kernelspec": {
   "name": "Python 3.7.7 64-bit ('work_3.7': conda)",
   "display_name": "Python 3.7.7 64-bit ('work_3.7': conda)",
   "metadata": {
    "interpreter": {
     "hash": "82e7f580dc2edfe8c629f94782c5623a5aa37d8393d9191d220d4baf1ad31c44"
    }
   }
  }
 },
 "nbformat": 4,
 "nbformat_minor": 2,
 "cells": [
  {
   "source": [
    "# Syllabus for 2021 course \n",
    "\n",
    "- toc: true \n",
    "- badges: true\n",
    "- comments: true\n",
    "- categories: [jupyter]"
   ],
   "cell_type": "markdown",
   "metadata": {}
  },
  {
   "source": [
    "# Day One - Bash essentials \n",
    "## Introduction \n",
    "## command line interactions basics\n",
    "1. Basic operations and working with files\n",
    "1. File operations\n",
    "1. User environment\n",
    "1. Text editors (vi/vim, nano or emacs)\n",
    "1. Text manipulation (cat, echo, sed, awk, grep, tr, wc, cut)\n",
    "## Advanced CLI\n",
    "1. Basic scripting \n",
    "1. Functions and shell scripts \n",
    "1. SSH and Git basics \n"
   ],
   "cell_type": "markdown",
   "metadata": {}
  },
  {
   "source": [
    "# Day Two - Python essentials \n",
    "\n",
    "## Python Basics\n",
    "1. Printing in python\n",
    "1. Data Types\n",
    "1. Variables\n",
    "1. Expressions\n",
    "1. String Operations\n",
    "## Python Data Structures\n",
    "1. Lists\n",
    "1. Tuples\n",
    "1. Sets\n",
    "1. Dictionaries\n",
    "## Python Programming Fundamentals\n",
    "1. Conditions\n",
    "1. Loops\n",
    "1. list comprehension \n",
    "1. Lambda Functions\n",
    "## Python Style Guide Recommendation\n",
    "1. General Guidelines\n",
    "    - Explicit code\n",
    "    - One statement per line\n",
    "    - Function arguments\n",
    "    - Unpacking\n",
    "1. Zen of Python\n",
    "1. PEP 8\n",
    "1. Conventions\n",
    "    - Check if a variable equals a constant\n",
    "    - Access a Dictionary Element\n",
    "    - Short Ways to Manipulate Lists\n",
    "    - Filtering a list\n",
    "    - Modifying the values in a list\n",
    "    - Line Continuations\n",
    "## Python advanced boot camp\n",
    "1. Functions\n",
    "1. Classes \n",
    "1. Modules\n",
    "1. Packages \n",
    "\n",
    "\n",
    "  "
   ],
   "cell_type": "markdown",
   "metadata": {}
  },
  {
   "source": [
    "# Day Three - Numpy essentials \n"
   ],
   "cell_type": "markdown",
   "metadata": {}
  },
  {
   "source": [
    "# Day Four - Pandas essentials "
   ],
   "cell_type": "markdown",
   "metadata": {}
  },
  {
   "source": [
    "# Day Five - Data visualization basics "
   ],
   "cell_type": "markdown",
   "metadata": {}
  },
  {
   "cell_type": "code",
   "execution_count": null,
   "metadata": {},
   "outputs": [],
   "source": []
  }
 ]
}