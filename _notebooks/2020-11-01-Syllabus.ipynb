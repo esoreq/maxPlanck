{
 "cells": [
  {
   "cell_type": "markdown",
   "metadata": {},
   "source": [
    "# Syllabus for 2021 course \n",
    "\n",
    "- toc: true \n",
    "- badges: false\n",
    "- comments: true\n",
    "- categories: [jupyter]"
   ]
  },
  {
   "cell_type": "markdown",
   "metadata": {},
   "source": [
    "> important: The first five days contain more information than the other days "
   ]
  },
  {
   "cell_type": "markdown",
   "metadata": {},
   "source": [
    "# Boot Camp (BC)"
   ]
  },
  {
   "cell_type": "markdown",
   "metadata": {},
   "source": [
    "## BC Day One - Bash essentials \n",
    "\n",
    "### Introduction to Linux based command line interactions\n",
    "\n",
    "### Basic commands\n",
    "\n",
    "1. Basic operations and working with files\n",
    "1. File operations\n",
    "1. User environment\n",
    "1. Text editors (vi/vim, nano or emacs)\n",
    "1. Text manipulation (cat, echo, sed, awk, grep, tr, wc, cut)\n",
    "\n",
    "### Programing and customisation of your environment\n",
    "\n",
    "1. Basic scripting \n",
    "1. Functions and shell scripts \n",
    "1. SSH and Git basics "
   ]
  },
  {
   "cell_type": "markdown",
   "metadata": {},
   "source": [
    "## BC Day Two - Python essentials \n",
    "\n",
    "### Python core tools\n",
    "\n",
    "1. Printing in python\n",
    "1. Data Types\n",
    "1. Variables\n",
    "1. Expressions\n",
    "1. String Operations\n",
    "\n",
    "### Data Structures in Python \n",
    "\n",
    "1. Lists\n",
    "1. Tuples\n",
    "1. Sets\n",
    "1. Dictionaries\n",
    "\n",
    "### Programming Fundamentals using Python \n",
    "\n",
    "1. Conditions\n",
    "1. Loops\n",
    "1. list comprehension \n",
    "1. Lambda Functions\n",
    "\n",
    "### Style Guide Recommendation\n",
    "1. General Guidelines\n",
    "    - Explicit code\n",
    "    - One statement per line\n",
    "    - Function arguments\n",
    "    - Unpacking\n",
    "1. Zen of Python\n",
    "1. PEP 8\n",
    "1. Conventions\n",
    "    - Check if a variable equals a constant\n",
    "    - Access a Dictionary Element\n",
    "    - Short Ways to Manipulate Lists\n",
    "    - Filtering a list\n",
    "    - Modifying the values in a list\n",
    "    - Line Continuations\n",
    "\n",
    "### Taking python to the next level \n",
    "\n",
    "1. Functions\n",
    "1. Classes \n",
    "1. Modules\n",
    "1. Packages \n",
    "\n",
    "\n",
    "  "
   ]
  },
  {
   "cell_type": "markdown",
   "metadata": {},
   "source": [
    "#hide\n",
    "\n",
    "https://totaldatascience.com/wp-content/uploads/2019/10/p64.png\n",
    "\n",
    "https://medium.com/@mrbriit/20-free-visualization-cheat-sheets-for-every-data-scientist-to-download-ceee741ba3ca\n",
    "\n",
    "https://procomm.ieee.org/elements-of-visual-communication/"
   ]
  },
  {
   "cell_type": "markdown",
   "metadata": {},
   "source": [
    "## BC Day Three - Data visualization basics \n",
    "\n",
    "### Introduction to exploratory data visualization (EDV)\n",
    "\n",
    "1. Deviation from a baseline \n",
    "1. Correlation between variables  \n",
    "1. Ranking across categories \n",
    "1. Distribution of variables   \n",
    "1. Temporal Change of variables    \n",
    "1. Relative and absolute magnitude comparisons of variables\n",
    "1. Part-to-whole Relationship \n",
    "1. Spatial magnitude, change or deviation plots\n",
    "1. Flow plots \n",
    "\n",
    "### Visual communication basics \n",
    "\n",
    "1. Graphic elements attributes \n",
    "    - Shape\n",
    "    - Position\n",
    "    - Size\n",
    "    - Color\n",
    "    - Orientation \n",
    "    - Opacity \n",
    "\n",
    "1. Composition attributes\n",
    "    - Contrast \n",
    "    - Repetition\n",
    "    - Alignment \n",
    "    - Proximity\n",
    "    - Hierarchy\n",
    "    - Grouping\n",
    "    - Sequence\n",
    "    - Space\n",
    "\n",
    "### Basics of Matplotlib \n",
    "\n",
    "1. Parts of a Figure\n",
    "1. Backends\n",
    "1. EDV examples\n",
    "\n"
   ]
  },
  {
   "cell_type": "markdown",
   "metadata": {},
   "source": [
    "## BC Day Four - Numpy essentials \n",
    "\n",
    "### Numpy basics \n",
    "\n",
    "1. Data types \n",
    "1. Vectors, Arrays, Volumes and Beyond\n",
    "1. Adding, removing, sorting elements\n",
    "1. Indexing, and slicing arrays \n",
    "1. Views and copies of arrays\n",
    "1. Array operations basics (e.g. sum, max etc. )\n",
    "1. Random basics\n",
    "\n",
    "### Numpy advanced \n",
    "\n",
    "1. Transposing, reshaping and flattening a matrix\n",
    "1. Matrix Operations \n",
    "1. Vectorization\n"
   ]
  },
  {
   "cell_type": "markdown",
   "metadata": {},
   "source": [
    "## BC Day Five - Pandas essentials \n",
    "\n",
    "### Introduction to pandas \n",
    "\n",
    "1. Creating, updating, extending, changing and saving Pandas Data Structures\n",
    "1. Wide, long and hierarchical data frames\n",
    "1. Indexing and slicing data frames\n",
    "1. Cleaning and transforming data \n",
    "1. Merging joining and concatenation of data frames \n"
   ]
  },
  {
   "cell_type": "markdown",
   "metadata": {},
   "source": [
    "# Artificial Intelligence & Intelligent Systems"
   ]
  },
  {
   "cell_type": "markdown",
   "metadata": {},
   "source": [
    "## Week One - What is Intelligence"
   ]
  },
  {
   "source": [
    "#hide\n",
    "\n",
    "wiki : [Neuroscience and intelligence\n",
    "](https://en.wikipedia.org/wiki/Neuroscience_and_intelligence#Humans)"
   ],
   "cell_type": "markdown",
   "metadata": {}
  },
  {
   "cell_type": "markdown",
   "metadata": {},
   "source": [
    "## Week Two - Reproducible research\n",
    "\n"
   ]
  },
  {
   "cell_type": "markdown",
   "metadata": {},
   "source": [
    "### Ten Simple Rules for Reproducible Research\n",
    "\n",
    "> Note: 30 minutes (20 min students presentation + 10 min discussion) \n",
    "\n",
    "Article: [Ten Simple Rules for Reproducible Research in Jupyter Notebooks](https://journals.plos.org/ploscompbiol/article?id=10.1371/journal.pcbi.1007007&utm_campaign=The%20ML%20Times%20&utm_medium=email&utm_source=Revue%20newsletter)\n"
   ]
  },
  {
   "cell_type": "markdown",
   "metadata": {},
   "source": [
    "### Markdown basics in Jupyter  \n",
    "\n",
    "> Note: 30 minutes Hands-on exercise \n",
    "\n",
    "1. Markdown Syntax\n",
    "1. Hyperlinks And References\n",
    "1. Mathematical Equations And LaTeX\n",
    "1. Creating Tables\n"
   ]
  },
  {
   "cell_type": "markdown",
   "metadata": {},
   "source": [
    "### From Replicability to Reproducibility\n",
    "\n",
    "> Note: 30 minutes presentation\n",
    "\n",
    "\n",
    "1. Levels of Reproducibility\n",
    "1. Things to avoid\n",
    "1. Tools of the trade "
   ]
  },
  {
   "cell_type": "markdown",
   "metadata": {},
   "source": [
    "#hide\n",
    " \n",
    "Article: [A Cognitive Interpretation of Data Analysis](https://onlinelibrary.wiley.com/doi/full/10.1111/insr.12028?casa_token=m3tegURGHpQAAAAA%3A4oSS06AOaulGnl_a1NM3sLdwTEHtb5EsvrDUs8sgQmSYNLx7JBTIH27aMlz_UJ0FzNuiG6RvPeuEUOB8)"
   ]
  },
  {
   "cell_type": "markdown",
   "metadata": {},
   "source": [
    "## Week Three - Exploratory Data Analysis"
   ]
  },
  {
   "cell_type": "markdown",
   "metadata": {},
   "source": [
    "### Point of View: Open exploration\n",
    "\n",
    "> Note: 30 minutes (20 min students presentation + 10 min discussion) \n",
    "\n",
    "Article: [Point of View: Open exploration](https://elifesciences.org/articles/52157)"
   ]
  },
  {
   "cell_type": "markdown",
   "metadata": {},
   "source": [
    "### Exploratory Data Analysis\n",
    "\n",
    "> Note: 45 minutes Hands-on exercise \n",
    "\n",
    "1. Generating an EDA preliminary report \n",
    "1. Descriptive EDA Tables\n",
    "1. EDA Plots"
   ]
  },
  {
   "cell_type": "markdown",
   "metadata": {},
   "source": [
    "### Data Analysis exploratory cycle \n",
    "\n",
    "> Note: 15 minutes presentation on\n",
    "\n",
    "1. Preliminary inspection of data using EDA\n",
    "1. Common First Steps In Any EDA\n",
    "1. Different Data Types\n",
    "1. Populations, Samples And Distributions\n",
    "1. Things to avoid"
   ]
  },
  {
   "cell_type": "markdown",
   "metadata": {},
   "source": [
    "## Week four - Data Acquisition, cleaning and Curation"
   ]
  },
  {
   "cell_type": "markdown",
   "metadata": {},
   "source": [
    "### Reproducibility in Cognitive Neuroscience\n",
    "\n",
    "> Note: 30 minutes (20 min students presentation + 10 min discussion) \n",
    "\n",
    "Article: [Progress Toward Openness, Transparency, and Reproducibility in Cognitive Neuroscience](https://www.ncbi.nlm.nih.gov/pmc/articles/PMC5545750/)"
   ]
  },
  {
   "cell_type": "markdown",
   "metadata": {},
   "source": [
    "### Dealing with big data \n",
    "\n",
    "> Note: 45 minutes Hands-on exercise \n",
    "\n",
    "1. Downloading and storing data locally \n",
    "1. Cleaning data in a non-destructive way \n",
    "1. Creating a pre-processing report "
   ]
  },
  {
   "cell_type": "markdown",
   "metadata": {},
   "source": [
    "### Data curation challenges in different domains \n",
    "\n",
    "> Note: 15 minutes presentation on\n",
    "\n",
    "1. Mapping the data lake of Cognitive Neuroscience\n",
    "1. Modality general and specific pitfalls \n",
    "1. Challenges in Data synthesis "
   ]
  },
  {
   "cell_type": "markdown",
   "metadata": {},
   "source": [
    "## Week five - Data mining and feature engineering"
   ]
  },
  {
   "cell_type": "markdown",
   "metadata": {},
   "source": [
    "### Fantastic Features and Where to Find Them\n",
    "\n",
    "> Note: 30 minutes (20 min students presentation + 10 min discussion) \n",
    "\n",
    "Article: [Fantastic Features and Where to Find Them: Detecting CognitiveImpairment with a Subsequence Classification Guided Approach](https://kopernio.com/viewer?doi=arxiv%3A2010.06579&token=WzM2MTksImFyeGl2OjIwMTAuMDY1NzkiXQ.8Aq4-_93nlp2uj2OIv-xZ1cyTBo)"
   ]
  },
  {
   "cell_type": "markdown",
   "metadata": {},
   "source": [
    "### Creating features based on domain expertise \n",
    "\n",
    "> Note: 30 minutes of Hands-on exercise \n",
    "\n",
    "1. Downloading and storing data locally \n",
    "1. Cleaning data in a non-destructive way \n",
    "1. Creating a pre-processing report "
   ]
  },
  {
   "cell_type": "markdown",
   "metadata": {},
   "source": [
    "### A Brief Introduction to Feature Engineering\n",
    "\n",
    "> Note: 30 minutes presentation on\n",
    "\n",
    "1. Variable transformation.\n",
    "\n",
    "    - scale change\n",
    "    - simplify non-linear relationships into linear relationships\n",
    "    - transform skewed distribution into Symmetric distribution\n",
    "\n",
    "2. Transformation methods\n",
    "\n",
    "    - Logarithm\n",
    "    - Square / Cube root\n",
    "    - Binning\n",
    "\n",
    "3. Variable / Feature creation.\n",
    "    - Derived variables\n",
    "    - Dummy variables\n",
    "    - Domain expert variables "
   ]
  },
  {
   "cell_type": "markdown",
   "metadata": {},
   "source": [
    "## Week six - Dimensionality reduction and unsupervised learning "
   ]
  },
  {
   "cell_type": "markdown",
   "metadata": {},
   "source": [
    "### Ghosts in machine learning for cognitive neuroscience\n",
    "\n",
    "> Note: 30 minutes (20 min students presentation + 10 min discussion) \n",
    "\n",
    "Article: [Ghosts in machine learning for cognitive neuroscience: Moving from datato theory](https://www.sciencedirect.com/science/article/abs/pii/S1053811917306663)"
   ]
  },
  {
   "cell_type": "markdown",
   "metadata": {},
   "source": [
    "### A Brief Introduction to Unsupervised Learning (part 1)\n",
    "\n",
    "1. What is Dimensionality reduction?\n",
    "1. Feature selection/elimination\n",
    "1. Feature extraction\n",
    "1. Visualizing high dimensional spaces \n",
    "\n",
    "> Note: 30 minutes online presentation"
   ]
  },
  {
   "cell_type": "markdown",
   "metadata": {},
   "source": [
    "### Dimensionality reduction a multi-edged sword \n",
    "\n",
    "> Note: 30 minutes of Hands-on exercise \n",
    "\n",
    "1. Understanding Dimensionality reduction application and theory \n",
    "    1. Principal component analysis basics\n",
    "    1. Global vs local non-linear approaches\n",
    "    1. Visualising complex states "
   ]
  },
  {
   "cell_type": "markdown",
   "metadata": {},
   "source": [
    "## Week seven - Data clustering "
   ]
  },
  {
   "cell_type": "markdown",
   "metadata": {},
   "source": [
    "### A Brief Introduction to Unsupervised Learning (part 2)\n",
    "\n",
    "> Note: 30 minutes presentation\n",
    "\n",
    "1. Cluster Analysis Basics\n",
    "    - What is Cluster Analysis?\n",
    "    - Applications of Cluster Analysis\n",
    "    - Putting Clustering into Context\n",
    "    - The Benefits of Cluster Analysis\n",
    "    - The Different Types of Cluster Analysis\n",
    "1. What are proximity metrices\n",
    "    - Distance metrics\n",
    "    - Similarity metrics    \n",
    "1. Intution behind common Cluster Algorithms\n",
    "1. Clustering performance evaluation for Known classes and Unknown classes \n",
    "    "
   ]
  },
  {
   "cell_type": "markdown",
   "metadata": {},
   "source": [
    "### Visual field map clusters \n",
    "\n",
    "> Note: 30 minutes (20 min students presentation + 10 min discussion) \n",
    "\n",
    "Article: [Visual field map clusters in human frontoparietal cortex](https://elifesciences.org/articles/22974)"
   ]
  },
  {
   "cell_type": "markdown",
   "metadata": {},
   "source": [
    "### Comparing clustering algoritems on controlled toy data-sets\n",
    "\n",
    "> Note: 30 minutes of Hands-on exercise \n",
    "\n",
    "1. K-Means Clustering\n",
    "2. Spectral Clustering\n",
    "3. Density-Based Spatial Clustering of Applications with Noise\n",
    "4. Agglomerative Hierarchical Clustering"
   ]
  },
  {
   "cell_type": "markdown",
   "metadata": {},
   "source": [
    "# Week eight - Supervised learning (linear regression models)"
   ]
  },
  {
   "source": [
    "### A Brief Introduction to Supervised Learning (part 1)\n",
    "\n",
    "> Note: 30 minutes presentation\n",
    "\n",
    "1. Introduction to Predictive Modeling\n",
    "1. Parametric and Non-parametric Models\n",
    "1. Benefits and Challenges of Predictive Modeling\n",
    "1. Intution behind common Predictive Algorithms\n",
    "1. Predictiction performance evaluation metrics"
   ],
   "cell_type": "markdown",
   "metadata": {}
  },
  {
   "source": [
    "### Predicting general intelligence from fMRI\n",
    "\n",
    "> Note: 30 minutes (20 min students presentation + 10 min discussion) \n",
    "\n",
    "[A distributed brain network predicts general intelligence from resting-state human neuroimaging data](https://royalsocietypublishing.org/doi/full/10.1098/rstb.2017.0284)"
   ],
   "cell_type": "markdown",
   "metadata": {}
  },
  {
   "source": [
    "### Comparing regression algoritems on controlled toy data-sets\n",
    "\n",
    "> Note: 30 minutes of Hands-on exercise \n",
    "\n",
    "1. Linear Regression\n",
    "1. From Lasso to Ridge Regression\n",
    "1. Support Vector Machines \n",
    "1. Polynomial regression\n",
    "\n"
   ],
   "cell_type": "markdown",
   "metadata": {}
  },
  {
   "source": [
    "# Week nine - Supervised learning (linear classification models)\n",
    "\n",
    "https://www.frontiersin.org/articles/10.3389/fpsyt.2019.00572/full"
   ],
   "cell_type": "markdown",
   "metadata": {}
  },
  {
   "source": [
    "# Week ten - Supervised learning (non-linear Supervised models) \n",
    "\n",
    "\n",
    "https://www.biorxiv.org/content/10.1101/2020.07.08.193664v1.full"
   ],
   "cell_type": "markdown",
   "metadata": {}
  }
 ],
 "metadata": {
  "kernelspec": {
   "display_name": ".venv",
   "language": "python",
   "name": ".venv"
  },
  "language_info": {
   "codemirror_mode": {
    "name": "ipython",
    "version": 3
   },
   "file_extension": ".py",
   "mimetype": "text/x-python",
   "name": "python",
   "nbconvert_exporter": "python",
   "pygments_lexer": "ipython3",
   "version": "3.8.6"
  }
 },
 "nbformat": 4,
 "nbformat_minor": 4
}