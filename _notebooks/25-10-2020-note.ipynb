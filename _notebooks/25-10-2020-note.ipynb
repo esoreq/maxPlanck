{
 "metadata": {
  "language_info": {
   "codemirror_mode": {
    "name": "ipython",
    "version": 3
   },
   "file_extension": ".py",
   "mimetype": "text/x-python",
   "name": "python",
   "nbconvert_exporter": "python",
   "pygments_lexer": "ipython3",
   "version": "3.7.7-final"
  },
  "orig_nbformat": 2,
  "kernelspec": {
   "name": "Python 3.7.7 64-bit ('work_3.7': conda)",
   "display_name": "Python 3.7.7 64-bit ('work_3.7': conda)",
   "metadata": {
    "interpreter": {
     "hash": "82e7f580dc2edfe8c629f94782c5623a5aa37d8393d9191d220d4baf1ad31c44"
    }
   }
  }
 },
 "nbformat": 4,
 "nbformat_minor": 2,
 "cells": [
  {
   "source": [
    "# Bash (Bourne-Again SHell) Basic Commands\n",
    "> Basic Commands in Shell to simplify your dya to day \n",
    "\n",
    "- toc: true \n",
    "- badges: false\n",
    "- comments: true\n",
    "- categories: [jupyter]\n"
   ],
   "cell_type": "markdown",
   "metadata": {}
  },
  {
   "source": [
    "# Some critical baselines \n",
    "This blog-post (and any that follows) goal is to act as an external memory deposit for bare and crucial essentials. They are intended to be the foundations on your path to mastering the art and science of making sense of data. \n",
    "These will cover many different topics that we will rely on during this course.  \n",
    "\n",
    "The current post covers one of the most basic and underestimated skills: a command-line interface (CLI). Modern scientists nowadays need massive amounts of computational power to support their findings. This requires using shared resources such as high processing clusters (HPC) or powerful local Linux servers.  Interacting with these sort of interfaces requires basic and advance command-line skills.\n",
    "\n",
    "In computing, a shell refers to some interface between the user (that is you) and the operating system (e.g. Mac, Windows, etc.). It is common to separate operating system shell interfaces  into two types: \n",
    "1. Command-line. \n",
    "2. Graphical based. \n",
    "\n",
    "Various tasks will call for different interfaces, and in this course, we will be using versions of both intensively. The bash Shell (Bourne Again SHell), the focus of this post, is obviously a CLI. \n"
   ],
   "cell_type": "markdown",
   "metadata": {}
  },
  {
   "source": [
    "# Bash (Bourne-Again SHell) Essentials\n",
    "\n",
    "\n",
    "Bash is a simple programming language that allows you to enter commands and — most importantly — execute lists of commands. You can also create decisions, loops, and do other things to allow you to write scripts that are more than just a list of programs to run. As such if used correctly, it can automate many of the things you do. \n",
    "\n",
    "In this section, we will cover the most popular commands, learn when and how to use them. \n",
    "If you want to extend your understanding, you should consider taking [Learn bash the Hard Way](https://linuxconfig.org/bash-scripting-tutorial). \n",
    "> Important: Bash is just one version of many different CLI (and is indeed the simplest of the bunch) that exist nowadays (e.g. (KSH, ZSH, or TCSH, etc.) \n",
    "\n",
    "Testing the concepts included in this post can be achieved using a mac or linux terminal or in windows by [enabling bash subsystem](https://docs.microsoft.com/en-us/windows/wsl/install-win10)  \n"
   ],
   "cell_type": "markdown",
   "metadata": {}
  },
  {
   "source": [
    "## Help "
   ],
   "cell_type": "markdown",
   "metadata": {}
  }
 ]
}