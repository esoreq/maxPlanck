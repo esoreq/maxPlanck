{
 "metadata": {
  "language_info": {
   "codemirror_mode": {
    "name": "ipython",
    "version": 3
   },
   "file_extension": ".py",
   "mimetype": "text/x-python",
   "name": "python",
   "nbconvert_exporter": "python",
   "pygments_lexer": "ipython3",
   "version": "3.7.7-final"
  },
  "orig_nbformat": 2,
  "kernelspec": {
   "name": "Python 3.7.7 64-bit ('work_3.7': conda)",
   "display_name": "Python 3.7.7 64-bit ('work_3.7': conda)",
   "metadata": {
    "interpreter": {
     "hash": "82e7f580dc2edfe8c629f94782c5623a5aa37d8393d9191d220d4baf1ad31c44"
    }
   }
  }
 },
 "nbformat": 4,
 "nbformat_minor": 2,
 "cells": [
  {
   "source": [
    "# Fastpages Notebook New Blog Post\n",
    "> Testing fast pages capabilities \n",
    "\n",
    "- toc: true \n",
    "- badges: false\n",
    "- comments: true\n",
    "- categories: [jupyter]\n"
   ],
   "cell_type": "markdown",
   "metadata": {}
  },
  {
   "source": [
    "# Some critical baselines \n",
    "This blog-post (and any that follows) goal is to act as external memory deposit for basic and crucial essentials. They are intended to be the foundations on your personal path to mastering the art and science of making sense of data. \n",
    "These will cover many different topics that we will rely on during this course.  The current post you are reading, is one of the most basic and underestimated skill command line interactions. \n",
    "Modern scientists nowdays need massive amounts of computational power to support their findings. This requires using shared resources such as high processing clusters (HPC) or very strong local linux servers.  Interacting with these sort of interfaces requires basic and advance command line skills.  \n",
    "In computing, a shell refers to some interface between the user (that is you) and the operating system (e.g. Mac, Windows etc.). \n",
    "Operating system shell interfaces can be broadly seperated to two types: (1) command-line or (2) graphical based. \n",
    "Different tasks will call for different interfaces, and in this course we will be using both intensively. \n",
    "\n",
    "The bash Shell (Bourne Again SHell), is a command-line interface (CLI). Lets go over the most popular commands, and learn how to use them. If you want to extend your understanding you should consider taking [Learn bash the Hard Way](https://linuxconfig.org/bash-scripting-tutorial).\n"
   ],
   "cell_type": "markdown",
   "metadata": {}
  },
  {
   "source": [
    "# Bash (Bourne-Again SHell) Essentials\n",
    "\n",
    "Bash is the shell, or command language interpreter (CLI), that allows us to interact with the operating system using text commands. \n",
    "\n",
    "\n"
   ],
   "cell_type": "markdown",
   "metadata": {}
  }
 ]
}